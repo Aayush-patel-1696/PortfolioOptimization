{
 "cells": [
  {
   "cell_type": "code",
   "execution_count": 4,
   "metadata": {},
   "outputs": [],
   "source": [
    "import datetime\n",
    "from src.scenario.past_gen import PastGen"
   ]
  },
  {
   "cell_type": "code",
   "execution_count": 5,
   "metadata": {},
   "outputs": [],
   "source": [
    "# Extract the Data from the Yahoo Data Source\n",
    "start_date = datetime.datetime(2017, 3, 29)\n",
    "end_date = datetime.datetime(2024, 3, 29)\n",
    "tickers  =  ['IWV', 'VT', 'VTI','ADBE','MSFT','VFH']"
   ]
  },
  {
   "cell_type": "code",
   "execution_count": 6,
   "metadata": {},
   "outputs": [],
   "source": [
    "past_gen_obj = PastGen(start_date,end_date,tickers,\"Close\")"
   ]
  },
  {
   "cell_type": "code",
   "execution_count": 7,
   "metadata": {},
   "outputs": [],
   "source": [
    "data = past_gen_obj.gen_scenarios(0,100)"
   ]
  },
  {
   "cell_type": "code",
   "execution_count": 8,
   "metadata": {},
   "outputs": [],
   "source": [
    "data_summary  = past_gen_obj.get_summary(data)"
   ]
  },
  {
   "cell_type": "code",
   "execution_count": 9,
   "metadata": {},
   "outputs": [
    {
     "data": {
      "text/html": [
       "<div>\n",
       "<style scoped>\n",
       "    .dataframe tbody tr th:only-of-type {\n",
       "        vertical-align: middle;\n",
       "    }\n",
       "\n",
       "    .dataframe tbody tr th {\n",
       "        vertical-align: top;\n",
       "    }\n",
       "\n",
       "    .dataframe thead th {\n",
       "        text-align: right;\n",
       "    }\n",
       "</style>\n",
       "<table border=\"1\" class=\"dataframe\">\n",
       "  <thead>\n",
       "    <tr style=\"text-align: right;\">\n",
       "      <th></th>\n",
       "      <th>VTI_Close</th>\n",
       "      <th>VFH_Close</th>\n",
       "      <th>VT_Close</th>\n",
       "      <th>IWV_Close</th>\n",
       "      <th>ADBE_Close</th>\n",
       "      <th>MSFT_Close</th>\n",
       "    </tr>\n",
       "  </thead>\n",
       "  <tbody>\n",
       "    <tr>\n",
       "      <th>mean</th>\n",
       "      <td>110.538212</td>\n",
       "      <td>52.658102</td>\n",
       "      <td>58.057661</td>\n",
       "      <td>128.674811</td>\n",
       "      <td>140.042601</td>\n",
       "      <td>64.136014</td>\n",
       "    </tr>\n",
       "    <tr>\n",
       "      <th>variance</th>\n",
       "      <td>4.156065</td>\n",
       "      <td>2.260289</td>\n",
       "      <td>1.882217</td>\n",
       "      <td>5.513611</td>\n",
       "      <td>43.115305</td>\n",
       "      <td>6.566874</td>\n",
       "    </tr>\n",
       "    <tr>\n",
       "      <th>std</th>\n",
       "      <td>2.038643</td>\n",
       "      <td>1.503426</td>\n",
       "      <td>1.371939</td>\n",
       "      <td>2.348108</td>\n",
       "      <td>6.566225</td>\n",
       "      <td>2.562591</td>\n",
       "    </tr>\n",
       "  </tbody>\n",
       "</table>\n",
       "</div>"
      ],
      "text/plain": [
       "           VTI_Close  VFH_Close   VT_Close   IWV_Close  ADBE_Close  MSFT_Close\n",
       "mean      110.538212  52.658102  58.057661  128.674811  140.042601   64.136014\n",
       "variance    4.156065   2.260289   1.882217    5.513611   43.115305    6.566874\n",
       "std         2.038643   1.503426   1.371939    2.348108    6.566225    2.562591"
      ]
     },
     "execution_count": 9,
     "metadata": {},
     "output_type": "execute_result"
    }
   ],
   "source": [
    "data_summary"
   ]
  },
  {
   "cell_type": "code",
   "execution_count": 10,
   "metadata": {},
   "outputs": [
    {
     "data": {
      "text/html": [
       "<div>\n",
       "<style scoped>\n",
       "    .dataframe tbody tr th:only-of-type {\n",
       "        vertical-align: middle;\n",
       "    }\n",
       "\n",
       "    .dataframe tbody tr th {\n",
       "        vertical-align: top;\n",
       "    }\n",
       "\n",
       "    .dataframe thead th {\n",
       "        text-align: right;\n",
       "    }\n",
       "</style>\n",
       "<table border=\"1\" class=\"dataframe\">\n",
       "  <thead>\n",
       "    <tr style=\"text-align: right;\">\n",
       "      <th></th>\n",
       "      <th>VTI_Close</th>\n",
       "      <th>VFH_Close</th>\n",
       "      <th>VT_Close</th>\n",
       "      <th>IWV_Close</th>\n",
       "      <th>ADBE_Close</th>\n",
       "      <th>MSFT_Close</th>\n",
       "    </tr>\n",
       "  </thead>\n",
       "  <tbody>\n",
       "    <tr>\n",
       "      <th>VTI_Close</th>\n",
       "      <td>4.156065</td>\n",
       "      <td>2.619005</td>\n",
       "      <td>2.743476</td>\n",
       "      <td>4.786465</td>\n",
       "      <td>12.520336</td>\n",
       "      <td>4.922497</td>\n",
       "    </tr>\n",
       "    <tr>\n",
       "      <th>VFH_Close</th>\n",
       "      <td>2.619005</td>\n",
       "      <td>2.260289</td>\n",
       "      <td>1.681329</td>\n",
       "      <td>3.013003</td>\n",
       "      <td>7.396009</td>\n",
       "      <td>2.756942</td>\n",
       "    </tr>\n",
       "    <tr>\n",
       "      <th>VT_Close</th>\n",
       "      <td>2.743476</td>\n",
       "      <td>1.681329</td>\n",
       "      <td>1.882217</td>\n",
       "      <td>3.161374</td>\n",
       "      <td>8.632671</td>\n",
       "      <td>3.367195</td>\n",
       "    </tr>\n",
       "    <tr>\n",
       "      <th>IWV_Close</th>\n",
       "      <td>4.786465</td>\n",
       "      <td>3.013003</td>\n",
       "      <td>3.161374</td>\n",
       "      <td>5.513611</td>\n",
       "      <td>14.412820</td>\n",
       "      <td>5.673259</td>\n",
       "    </tr>\n",
       "    <tr>\n",
       "      <th>ADBE_Close</th>\n",
       "      <td>12.520336</td>\n",
       "      <td>7.396009</td>\n",
       "      <td>8.632671</td>\n",
       "      <td>14.412820</td>\n",
       "      <td>43.115305</td>\n",
       "      <td>16.057394</td>\n",
       "    </tr>\n",
       "    <tr>\n",
       "      <th>MSFT_Close</th>\n",
       "      <td>4.922497</td>\n",
       "      <td>2.756942</td>\n",
       "      <td>3.367195</td>\n",
       "      <td>5.673259</td>\n",
       "      <td>16.057394</td>\n",
       "      <td>6.566874</td>\n",
       "    </tr>\n",
       "  </tbody>\n",
       "</table>\n",
       "</div>"
      ],
      "text/plain": [
       "            VTI_Close  VFH_Close  VT_Close  IWV_Close  ADBE_Close  MSFT_Close\n",
       "VTI_Close    4.156065   2.619005  2.743476   4.786465   12.520336    4.922497\n",
       "VFH_Close    2.619005   2.260289  1.681329   3.013003    7.396009    2.756942\n",
       "VT_Close     2.743476   1.681329  1.882217   3.161374    8.632671    3.367195\n",
       "IWV_Close    4.786465   3.013003  3.161374   5.513611   14.412820    5.673259\n",
       "ADBE_Close  12.520336   7.396009  8.632671  14.412820   43.115305   16.057394\n",
       "MSFT_Close   4.922497   2.756942  3.367195   5.673259   16.057394    6.566874"
      ]
     },
     "execution_count": 10,
     "metadata": {},
     "output_type": "execute_result"
    }
   ],
   "source": [
    "past_gen_obj.get_covariance(data)"
   ]
  },
  {
   "cell_type": "code",
   "execution_count": null,
   "metadata": {},
   "outputs": [],
   "source": []
  }
 ],
 "metadata": {
  "kernelspec": {
   "display_name": ".venv",
   "language": "python",
   "name": "python3"
  },
  "language_info": {
   "codemirror_mode": {
    "name": "ipython",
    "version": 3
   },
   "file_extension": ".py",
   "mimetype": "text/x-python",
   "name": "python",
   "nbconvert_exporter": "python",
   "pygments_lexer": "ipython3",
   "version": "3.10.11"
  }
 },
 "nbformat": 4,
 "nbformat_minor": 2
}
